{
 "cells": [
  {
   "cell_type": "code",
   "execution_count": 1,
   "metadata": {},
   "outputs": [
    {
     "name": "stderr",
     "output_type": "stream",
     "text": [
      "/usr/local/lib/python3.8/dist-packages/tqdm/auto.py:21: TqdmWarning: IProgress not found. Please update jupyter and ipywidgets. See https://ipywidgets.readthedocs.io/en/stable/user_install.html\n",
      "  from .autonotebook import tqdm as notebook_tqdm\n"
     ]
    }
   ],
   "source": [
    "import pyro\n",
    "from pyro.nn import PyroSample, PyroModule\n",
    "from pyro.infer import SVI, Trace_ELBO, autoguide\n",
    "import torch\n",
    "from torch.nn.functional import softplus\n",
    "from sklearn.metrics import mean_squared_error\n",
    "import random\n",
    "import matplotlib.pyplot as plt\n",
    "import seaborn as sns\n",
    "import anndata as ann"
   ]
  },
  {
   "cell_type": "code",
   "execution_count": 4,
   "metadata": {},
   "outputs": [
    {
     "name": "stderr",
     "output_type": "stream",
     "text": [
      "/usr/local/lib/python3.8/dist-packages/anndata/_core/anndata.py:1840: UserWarning: Variable names are not unique. To make them unique, call `.var_names_make_unique`.\n",
      "  utils.warn_names_duplicates(\"var\")\n"
     ]
    }
   ],
   "source": [
    "data = ann.read_h5ad(\"/mnt/storage/thien/projectdata/GSE194122_openproblems_neurips2021_cite_BMMC_processed.h5ad\")"
   ]
  },
  {
   "cell_type": "code",
   "execution_count": 5,
   "metadata": {},
   "outputs": [
    {
     "name": "stdout",
     "output_type": "stream",
     "text": [
      "AnnData object with n_obs × n_vars = 90261 × 14087\n",
      "    obs: 'GEX_n_genes_by_counts', 'GEX_pct_counts_mt', 'GEX_size_factors', 'GEX_phase', 'ADT_n_antibodies_by_counts', 'ADT_total_counts', 'ADT_iso_count', 'cell_type', 'batch', 'ADT_pseudotime_order', 'GEX_pseudotime_order', 'Samplename', 'Site', 'DonorNumber', 'Modality', 'VendorLot', 'DonorID', 'DonorAge', 'DonorBMI', 'DonorBloodType', 'DonorRace', 'Ethnicity', 'DonorGender', 'QCMeds', 'DonorSmoker', 'is_train'\n",
      "    var: 'feature_types', 'gene_id'\n",
      "    uns: 'dataset_id', 'genome', 'organism'\n",
      "    obsm: 'ADT_X_pca', 'ADT_X_umap', 'ADT_isotype_controls', 'GEX_X_pca', 'GEX_X_umap'\n",
      "    layers: 'counts'\n"
     ]
    }
   ],
   "source": [
    "print(data)"
   ]
  },
  {
   "cell_type": "code",
   "execution_count": 6,
   "metadata": {},
   "outputs": [
    {
     "name": "stdout",
     "output_type": "stream",
     "text": [
      "torch.Size([100, 20])\n",
      "tensor([[ 5.3621e-01, -9.5076e-01, -8.2234e-01,  ..., -2.3100e+00,\n",
      "          1.5223e+00,  4.2384e-01],\n",
      "        [-8.2410e-01, -2.6438e+00,  5.0057e-01,  ..., -1.6188e+00,\n",
      "          1.4766e+00, -1.3624e+00],\n",
      "        [ 3.5991e+00,  8.5626e+00, -1.4502e+00,  ...,  9.4482e-01,\n",
      "         -1.3726e+00,  1.0173e+00],\n",
      "        ...,\n",
      "        [-7.1978e-01, -2.0009e+00,  1.3592e-01,  ..., -6.8602e-01,\n",
      "          6.1233e-01,  4.7834e-02],\n",
      "        [-8.2973e-04, -2.9130e+00,  4.6990e-01,  ..., -9.3622e-01,\n",
      "          9.6277e-02,  7.1257e-01],\n",
      "        [-9.2778e-01,  2.7502e+00, -1.1326e+00,  ...,  5.6296e+00,\n",
      "         -1.5591e+00,  2.7615e+00]])\n"
     ]
    }
   ],
   "source": [
    "# simulate data\n",
    "n_obs = 100\n",
    "n_features = 20\n",
    "n_factors = 5\n",
    "\n",
    "torch.manual_seed(2024)\n",
    "Z_in = torch.randn(n_obs, n_factors) \n",
    "W_in = torch.randn(n_features, n_factors) \n",
    "\n",
    "# create observated values from the simulated factor and weight matrix with some random noise\n",
    "Y = torch.matmul(Z_in, W_in.t()) + 0.2 * torch.randn(n_obs, n_features)\n",
    "print(Y.shape)\n",
    "print(Y)"
   ]
  },
  {
   "cell_type": "code",
   "execution_count": 7,
   "metadata": {},
   "outputs": [],
   "source": [
    "class FA(PyroModule):\n",
    "    def __init__(self, Y, K):\n",
    "        \"\"\"\n",
    "        Args:\n",
    "            Y: Tensor (Samples x Features)\n",
    "            K: Number of Latent Factors\n",
    "        \"\"\"\n",
    "        super().__init__()\n",
    "        pyro.clear_param_store()\n",
    "        \n",
    "        # data\n",
    "        self.Y = Y\n",
    "        self.K = K\n",
    "        \n",
    "        self.num_samples = self.Y.shape[0]\n",
    "        self.num_features = self.Y.shape[1]\n",
    "        \n",
    "        self.sample_plate = pyro.plate(\"sample\", self.num_samples)\n",
    "        self.feature_plate = pyro.plate(\"feature\", self.num_features)\n",
    "        self.latent_factor_plate = pyro.plate(\"latent factors\", self.K)\n",
    "        \n",
    "        \n",
    "    def model(self):\n",
    "        \"\"\"\n",
    "        how to generate a matrix\n",
    "        \"\"\"\n",
    "        with self.latent_factor_plate:\n",
    "            with self.feature_plate:\n",
    "                # sample weight matrix with Normal prior distribution\n",
    "                W = pyro.sample(\"W\", pyro.distributions.Normal(0., 1.))                \n",
    "                \n",
    "            with self.sample_plate:\n",
    "                # sample factor matrix with Normal prior distribution\n",
    "                Z = pyro.sample(\"Z\", pyro.distributions.Normal(0., 1.))\n",
    "        \n",
    "        # estimate for Y\n",
    "        Y_hat = torch.matmul(Z, W.t())\n",
    "        \n",
    "        with pyro.plate(\"feature_\", self.Y.shape[1]), pyro.plate(\"sample_\", self.Y.shape[0]):\n",
    "            # masking the NA values such that they are not considered in the distributions\n",
    "            obs_mask = torch.ones_like(self.Y, dtype=torch.bool)\n",
    "            if data is not None:\n",
    "                obs_mask = torch.logical_not(torch.isnan(self.Y))\n",
    "            with pyro.poutine.mask(mask=obs_mask):\n",
    "                if data is not None:\n",
    "                    # a valid value for the NAs has to be defined even though these samples will be ignored later\n",
    "                    self.Y = torch.nan_to_num(self.Y, nan=0) \n",
    "            \n",
    "                    # sample scale parameter for each feature-sample pair with LogNormal prior (has to be positive)\n",
    "                    scale = pyro.sample(\"scale\", pyro.distributions.LogNormal(0., 1.))\n",
    "                    # compare sampled estimation to the true observation Y\n",
    "                    pyro.sample(\"obs\", pyro.distributions.Normal(Y_hat, scale), obs=self.Y)\n",
    "\n",
    "\n",
    "    def train(self):\n",
    "        # set training parameters\n",
    "        optimizer = pyro.optim.Adam({\"lr\": 0.02})\n",
    "        elbo = Trace_ELBO()\n",
    "        guide = autoguide.AutoDelta(self.model)\n",
    "        \n",
    "        # initialize stochastic variational inference\n",
    "        svi = SVI(\n",
    "            model = self.model,\n",
    "            guide = guide,\n",
    "            optim = optimizer,\n",
    "            loss = elbo\n",
    "        )\n",
    "        \n",
    "        num_iterations = 2000\n",
    "        train_loss = []\n",
    "        for j in range(num_iterations):\n",
    "            # calculate the loss and take a gradient step\n",
    "            loss = svi.step()\n",
    "\n",
    "            train_loss.append(loss/self.Y.shape[0])\n",
    "            if j % 200 == 0:\n",
    "                print(\"[iteration %04d] loss: %.4f\" % (j + 1, loss / self.Y.shape[0]))\n",
    "        \n",
    "        # Obtain maximum a posteriori estimates for W and Z\n",
    "        map_estimates = guide(Y)\n",
    "        \n",
    "        return train_loss, map_estimates"
   ]
  },
  {
   "cell_type": "code",
   "execution_count": 8,
   "metadata": {},
   "outputs": [
    {
     "name": "stderr",
     "output_type": "stream",
     "text": [
      "/home/thien/.local/lib/python3.8/site-packages/pyro/util.py:365: UserWarning: Found plate statements in guide but not model: {'latent factors', 'feature', 'sample'}\n",
      "  warnings.warn(\n"
     ]
    },
    {
     "name": "stdout",
     "output_type": "stream",
     "text": [
      "[iteration 0001] loss: 114.7042\n"
     ]
    },
    {
     "name": "stderr",
     "output_type": "stream",
     "text": [
      "/home/thien/.local/lib/python3.8/site-packages/pyro/util.py:365: UserWarning: Found plate statements in guide but not model: {'latent factors', 'feature', 'sample'}\n",
      "  warnings.warn(\n"
     ]
    },
    {
     "name": "stdout",
     "output_type": "stream",
     "text": [
      "[iteration 0201] loss: 13.8319\n",
      "[iteration 0401] loss: 11.0294\n",
      "[iteration 0601] loss: 10.4479\n",
      "[iteration 0801] loss: 10.2793\n",
      "[iteration 1001] loss: 10.2267\n",
      "[iteration 1201] loss: 10.1964\n",
      "[iteration 1401] loss: 10.1988\n",
      "[iteration 1601] loss: 10.2002\n",
      "[iteration 1801] loss: 10.1879\n"
     ]
    }
   ],
   "source": [
    "FA_model = FA(Y,5)\n",
    "losses, estimates = FA_model.train()"
   ]
  },
  {
   "cell_type": "code",
   "execution_count": 10,
   "metadata": {},
   "outputs": [
    {
     "data": {
      "text/plain": [
       "{'W': tensor([[ 1.4652,  1.6283,  1.0000, -1.2970, -1.1173],\n",
       "         [-1.8084,  2.3123,  2.7544,  0.5089, -3.6005],\n",
       "         [ 2.4228, -0.5210, -0.9575, -0.5250, -0.1896],\n",
       "         [ 0.3043,  0.9080, -1.1091,  2.1785, -1.7784],\n",
       "         [-0.7594, -1.4002, -1.6800,  0.4682, -1.3413],\n",
       "         [-0.8269, -0.0611, -0.1735,  1.0052,  0.2949],\n",
       "         [ 2.6573, -0.0076, -2.2350,  1.7551,  0.9884],\n",
       "         [ 2.0689, -0.5384,  0.1624,  1.0281, -0.1691],\n",
       "         [ 0.1544, -2.2978, -1.8604,  0.0416, -1.7097],\n",
       "         [ 0.0787, -0.6553,  1.6258,  0.6562,  0.4507],\n",
       "         [-0.9854, -0.5038,  0.0189,  0.7944, -1.1674],\n",
       "         [ 0.8928, -1.6178, -1.4007,  2.5214, -0.5550],\n",
       "         [-1.1880,  1.7042, -0.3272, -2.5008,  0.5494],\n",
       "         [-0.1548,  0.0899, -2.9778, -2.8621, -0.1637],\n",
       "         [ 0.9466,  2.2355, -1.7860, -1.9431, -2.9382],\n",
       "         [-0.5621,  2.3763,  0.3188,  0.3071, -0.7570],\n",
       "         [-0.4888, -0.6190, -1.2797,  0.5718, -1.2596],\n",
       "         [-2.7939, -2.2837, -0.1397,  1.2833, -2.4960],\n",
       "         [-2.5845,  1.0537,  0.3761,  1.4974,  2.4042],\n",
       "         [-0.5036, -1.8167,  0.9556, -1.5804, -1.3430]],\n",
       "        grad_fn=<ExpandBackward0>),\n",
       " 'Z': tensor([[-4.5481e-01,  3.7126e-01, -1.1552e-03, -1.0053e+00,  5.9525e-01],\n",
       "         [ 6.0203e-01, -3.6739e-01,  4.9668e-01,  8.7234e-01,  7.2097e-01],\n",
       "         [-1.0997e-02,  7.6799e-01,  1.0294e+00,  4.5392e-02, -1.1088e+00],\n",
       "         [ 6.0038e-01, -2.9566e-01, -5.9450e-01,  1.0855e+00, -4.3225e-01],\n",
       "         [ 1.5922e+00, -6.8872e-01, -3.2834e-01, -5.0510e-01, -1.1920e+00],\n",
       "         [ 1.3284e+00, -6.0005e-01, -9.4927e-01, -8.9489e-02, -1.1057e-01],\n",
       "         [-5.5049e-02,  1.1785e+00,  1.9449e+00, -1.0036e+00, -3.8397e-01],\n",
       "         [ 9.5918e-01,  6.8909e-01, -6.2096e-01, -3.2053e-01,  8.7943e-02],\n",
       "         [ 2.9346e-01,  8.6767e-01,  5.4576e-01, -1.2912e-01, -2.2065e-01],\n",
       "         [ 1.8562e-01, -5.9676e-01,  4.7525e-01,  4.1760e-01,  2.8487e-01],\n",
       "         [ 6.3080e-02,  7.5290e-01,  5.1125e-01, -1.6738e-02,  6.5656e-01],\n",
       "         [-7.3150e-02,  1.0077e+00,  9.2091e-01,  1.9334e-01, -3.8765e-01],\n",
       "         [ 1.7902e-01, -1.9154e-01, -1.0281e-01, -5.4134e-02, -5.0764e-01],\n",
       "         [-4.2681e-01, -5.4705e-01, -2.2344e-01, -4.3504e-01,  1.0778e+00],\n",
       "         [ 6.2060e-02, -6.3900e-01, -4.4270e-01,  1.3651e-01, -2.3946e-01],\n",
       "         [-1.2376e-01,  5.9396e-01,  9.6449e-02, -6.9457e-01, -1.2557e+00],\n",
       "         [-8.3143e-02, -6.7797e-02,  1.6696e-01,  5.9512e-01,  1.0591e+00],\n",
       "         [-4.4744e-02,  2.5112e-01,  6.9804e-02, -1.0269e+00, -1.0950e+00],\n",
       "         [ 4.6430e-01, -6.0274e-01, -5.6935e-01,  2.8070e-01, -8.5857e-01],\n",
       "         [ 6.8781e-01,  2.9364e-01,  8.0433e-02, -1.5743e-01, -1.0748e+00],\n",
       "         [-4.0324e-01,  5.5511e-01, -2.2119e-01,  6.2786e-01, -5.9243e-01],\n",
       "         [ 2.0888e-01, -9.8367e-02, -2.3228e-01,  7.0163e-01,  8.1427e-01],\n",
       "         [-1.9486e-01, -2.6390e-02, -3.8084e-01, -4.9919e-01, -9.5885e-01],\n",
       "         [ 9.5320e-01,  8.1091e-01, -8.3818e-02, -1.9248e-01,  1.2429e-01],\n",
       "         [-2.5297e-01, -5.0800e-01,  3.1351e-01, -3.9061e-01,  1.6186e+00],\n",
       "         [ 1.3226e+00, -5.6242e-01, -1.0644e+00, -3.5460e-01,  1.1248e+00],\n",
       "         [ 2.2806e-01, -1.3335e+00, -4.0833e-02,  2.6553e-01,  1.8177e-01],\n",
       "         [-2.8700e-01,  1.1304e+00,  1.5453e+00, -3.2741e-01,  7.4008e-02],\n",
       "         [ 4.9415e-01, -2.7248e-01,  4.3325e-01, -1.0266e+00, -2.5910e-01],\n",
       "         [-7.2859e-01,  2.7794e-01,  2.7807e-01,  3.0019e-01,  6.4558e-01],\n",
       "         [-7.2052e-01, -4.4493e-01, -3.2564e-01,  4.2867e-01,  5.1920e-01],\n",
       "         [ 1.3351e+00,  1.7698e-02, -7.0297e-01,  6.6650e-01,  1.0169e+00],\n",
       "         [-2.5261e-01,  2.3342e-01, -1.7474e-02,  4.7257e-01, -1.2803e+00],\n",
       "         [ 1.2939e-01, -8.7914e-01, -3.8392e-01, -5.0639e-01,  3.5898e-01],\n",
       "         [ 6.6869e-01,  6.4145e-01, -1.0324e-01,  3.2441e-01, -3.2054e-02],\n",
       "         [ 3.1431e-01, -1.9237e-01, -8.2636e-01, -1.0162e-01,  2.1644e-01],\n",
       "         [-1.4079e+00, -6.5438e-01,  1.2267e+00,  8.9806e-01, -3.3890e-02],\n",
       "         [-1.1182e+00,  1.5234e+00,  4.1694e-01,  8.1761e-01, -1.5940e-01],\n",
       "         [-1.3802e+00,  4.8367e-01, -2.7720e-01, -1.3337e-01, -1.6512e+00],\n",
       "         [-5.0749e-01, -3.9164e-01,  6.1416e-01,  2.9874e-01, -4.2912e-01],\n",
       "         [ 4.5454e-01, -2.2215e-01, -8.4725e-01, -3.4615e-01, -8.7011e-01],\n",
       "         [-8.3086e-01, -4.1874e-02,  8.8217e-01, -5.6172e-01, -7.8013e-01],\n",
       "         [-6.1828e-01,  1.5941e-01, -4.9894e-01,  1.5228e-01, -7.5236e-01],\n",
       "         [-3.5790e-01,  7.1747e-01,  3.5987e-01, -1.6837e-02, -3.2562e-01],\n",
       "         [-7.6258e-02, -1.5339e-01,  5.6212e-01, -5.3390e-02, -5.3200e-01],\n",
       "         [ 8.7304e-01,  4.2940e-02,  6.6497e-01,  9.2069e-01, -2.3026e-01],\n",
       "         [ 2.2029e-01, -4.3077e-01,  2.3992e-01,  9.6360e-01,  7.3541e-01],\n",
       "         [ 6.0355e-01,  4.7112e-01, -6.0098e-01, -7.8022e-01, -1.3754e+00],\n",
       "         [-7.7517e-01, -2.5435e-01,  3.6010e-01, -6.9372e-01, -1.1288e+00],\n",
       "         [ 5.0770e-01,  3.8221e-01,  1.8420e-01, -3.8593e-01, -4.6637e-03],\n",
       "         [ 4.9442e-01, -1.5160e+00,  5.8761e-01,  1.1926e+00, -8.5458e-01],\n",
       "         [ 6.1147e-01,  1.3080e+00,  3.9755e-01, -5.0243e-01,  4.9582e-01],\n",
       "         [ 2.1046e-02,  2.0308e-01, -5.7392e-01, -1.7909e-01,  1.2500e-01],\n",
       "         [ 8.2364e-01,  7.9619e-01, -1.8379e-01, -1.3409e+00,  3.6441e-01],\n",
       "         [ 9.6243e-01,  9.0898e-02, -5.9201e-01, -5.8503e-01,  1.5520e-01],\n",
       "         [ 3.2153e-01, -9.1555e-01, -1.4646e+00, -8.0228e-01, -4.3980e-01],\n",
       "         [ 4.2682e-01, -9.7254e-01, -2.8583e-01,  1.1546e+00, -4.7450e-01],\n",
       "         [ 2.1931e-01, -4.1766e-01, -9.2243e-01,  2.3888e-01,  1.9905e-01],\n",
       "         [ 1.3654e+00, -5.8460e-02, -4.5525e-01,  1.8075e-01,  9.9656e-02],\n",
       "         [-8.0472e-01, -3.6463e-01, -1.4644e-01,  1.1271e-01,  3.3810e-01],\n",
       "         [ 4.8166e-01, -8.8523e-02,  9.5638e-01,  1.6930e-01, -6.8628e-01],\n",
       "         [-3.0940e-01,  1.3556e+00,  5.4373e-01,  1.6695e+00, -7.9596e-01],\n",
       "         [ 1.6692e+00, -6.3838e-02, -5.1530e-01,  1.5891e-01,  5.7308e-01],\n",
       "         [ 8.3874e-01,  5.7839e-01, -1.2876e+00, -7.2681e-01,  6.3283e-01],\n",
       "         [ 6.0894e-01,  2.9989e-01, -3.7453e-01, -5.5446e-01,  2.9185e-01],\n",
       "         [ 2.0403e-01,  7.2132e-01, -1.2943e-01, -7.1741e-01,  2.5646e-01],\n",
       "         [ 9.8595e-01,  7.4190e-01, -1.2290e+00, -2.9378e-01,  9.4032e-02],\n",
       "         [-1.9926e-01, -4.3967e-01,  3.7217e-01,  5.0549e-01, -7.5105e-01],\n",
       "         [-6.2086e-01,  1.4548e+00,  9.4765e-02, -2.8361e-01,  9.1158e-01],\n",
       "         [-9.2654e-01,  1.6583e-01,  4.6996e-01, -3.3442e-01, -6.0709e-01],\n",
       "         [ 1.1051e+00,  8.1922e-02, -6.2580e-01, -2.9822e-02, -8.2969e-01],\n",
       "         [-6.7355e-01, -9.8893e-01,  3.9166e-01,  1.3821e+00,  1.2925e+00],\n",
       "         [-1.8277e-01, -4.2637e-01, -3.5643e-01,  3.6512e-01,  7.6729e-01],\n",
       "         [ 4.2231e-02, -7.1708e-01,  2.7024e-02,  5.0766e-01,  3.4853e-01],\n",
       "         [-1.0576e+00,  8.9119e-01,  7.8990e-01, -2.8354e-01, -4.1801e-01],\n",
       "         [ 7.3652e-01,  1.6616e-01,  8.6122e-01,  5.0366e-03,  1.3312e+00],\n",
       "         [ 1.2335e+00,  9.9427e-01,  6.9094e-01,  9.2938e-02,  7.5996e-01],\n",
       "         [-1.9359e-01, -3.9886e-01, -2.0427e-01, -2.4726e-01,  3.8577e-01],\n",
       "         [ 3.7677e-01,  1.2262e-01,  3.3517e-01, -1.1817e+00, -5.6449e-01],\n",
       "         [ 5.8604e-01,  2.2634e-01,  7.7303e-01, -1.8613e-01,  3.9904e-01],\n",
       "         [-2.0618e-01, -7.4608e-01, -1.0815e+00, -2.8905e-01, -1.2826e-01],\n",
       "         [ 4.1009e-02, -8.1782e-01, -6.9061e-01,  2.5708e+00, -1.0802e+00],\n",
       "         [-5.6086e-01, -8.0149e-01,  8.5731e-01,  5.7777e-01,  2.8258e-02],\n",
       "         [-5.4058e-01, -3.4871e-02,  5.4551e-01, -5.6404e-01,  6.7652e-01],\n",
       "         [-2.3378e-01,  8.7913e-01,  2.9718e-01, -3.2526e-01, -2.7997e-01],\n",
       "         [ 2.2128e-01,  1.0009e+00, -2.0689e-01, -7.2155e-01, -3.5290e-01],\n",
       "         [ 3.5037e-01,  9.9925e-01, -9.0155e-01,  5.7405e-01, -2.2766e-01],\n",
       "         [ 4.0670e-01,  7.5337e-01, -4.6788e-01,  5.6296e-01,  6.5563e-02],\n",
       "         [ 5.6395e-01,  6.6942e-01,  6.4095e-01, -6.9745e-01,  8.1224e-01],\n",
       "         [-4.1362e-01,  1.3691e+00,  1.1989e+00, -1.1355e+00,  1.4623e+00],\n",
       "         [-6.6200e-01,  1.0299e-01, -8.9269e-01, -1.2884e+00, -9.4723e-01],\n",
       "         [ 2.1373e-01, -5.1696e-01, -4.5228e-01, -1.0452e+00,  2.4494e-02],\n",
       "         [-4.6270e-02,  3.0187e-01,  8.6559e-01, -1.6401e-01, -5.0077e-01],\n",
       "         [-3.8062e-01, -2.5318e-01,  4.7632e-01, -2.8524e-01, -5.4822e-01],\n",
       "         [ 7.9830e-02,  1.3188e-01, -2.8045e-01, -2.9601e-01,  2.3666e-01],\n",
       "         [-5.4071e-01,  3.4610e-01, -3.4247e-01, -1.6905e-01,  6.2708e-02],\n",
       "         [ 1.4984e-01,  2.6081e-01, -1.1894e-01,  6.9183e-01,  3.9567e-01],\n",
       "         [ 2.6212e-01, -5.4614e-01,  6.0199e-01,  2.2300e-01,  5.5683e-01],\n",
       "         [ 1.1926e-01, -4.4333e-01,  1.1394e-01, -3.0401e-01,  4.9563e-01],\n",
       "         [-1.0423e+00, -3.5700e-01, -7.1017e-01, -6.6768e-01, -1.0598e+00]],\n",
       "        grad_fn=<ExpandBackward0>),\n",
       " 'scale': tensor([[0.1466, 0.1413, 0.1540,  ..., 0.1487, 0.1430, 0.1699],\n",
       "         [0.3440, 0.1683, 0.1689,  ..., 0.1407, 0.2483, 0.2144],\n",
       "         [0.2228, 0.1755, 0.2691,  ..., 0.1373, 0.1362, 0.1358],\n",
       "         ...,\n",
       "         [0.1794, 0.1430, 0.1374,  ..., 0.1370, 0.1433, 0.3136],\n",
       "         [0.5122, 0.1492, 0.1361,  ..., 0.1415, 0.1784, 0.1474],\n",
       "         [0.2228, 0.2319, 0.1396,  ..., 0.1364, 0.1597, 0.2612]],\n",
       "        grad_fn=<ExpandBackward0>)}"
      ]
     },
     "execution_count": 10,
     "metadata": {},
     "output_type": "execute_result"
    }
   ],
   "source": [
    "estimates"
   ]
  },
  {
   "cell_type": "code",
   "execution_count": null,
   "metadata": {},
   "outputs": [],
   "source": []
  }
 ],
 "metadata": {
  "kernelspec": {
   "display_name": "Python 3",
   "language": "python",
   "name": "python3"
  },
  "language_info": {
   "codemirror_mode": {
    "name": "ipython",
    "version": 3
   },
   "file_extension": ".py",
   "mimetype": "text/x-python",
   "name": "python",
   "nbconvert_exporter": "python",
   "pygments_lexer": "ipython3",
   "version": "3.8.10"
  }
 },
 "nbformat": 4,
 "nbformat_minor": 2
}
